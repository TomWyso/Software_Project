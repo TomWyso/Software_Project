{
 "cells": [
  {
   "cell_type": "code",
   "execution_count": 1,
   "id": "22b3dc3b-d0d4-4a76-9505-cf59a98ce546",
   "metadata": {},
   "outputs": [],
   "source": [
    "import spacy\n",
    "nlp = spacy.load(\"en_core_web_sm\")"
   ]
  },
  {
   "cell_type": "code",
   "execution_count": 2,
   "id": "ea61aa1d-e9d5-406b-9d17-ed4eb6bea4ee",
   "metadata": {},
   "outputs": [],
   "source": [
    "# How to get the non-root verb from sentences like \"She lives in New York, which she hates.\": i.dep_ == \"ccomp\"\n",
    "\n",
    "def get_pp(sentence):\n",
    "    subtrees = []\n",
    "    root = []\n",
    "    for i in nlp(sentence):\n",
    "        if i.dep_ == \"ROOT\":\n",
    "            root.append(i.lemma_)\n",
    "        #print(i.text, i.dep_)\n",
    "        #print(i.text, i.tag_, i.dep_)\n",
    "        if \"be\" not in root:\n",
    "            if i.dep_ == \"prep\" and i.text != \"to\" and i.text != \"of\":\n",
    "            #print(\"Subtree:\", [(e.text, e.i) for e in i.subtree])\n",
    "                subtrees.append([e.i for e in i.subtree])\n",
    "            #print(subtrees)\n",
    "            \n",
    "    #flat_list = []\n",
    "    #for sublist in subtrees:\n",
    "    #    for item in sublist:\n",
    "    #        flat_list.append(item)\n",
    "\n",
    "    flat_list = [item for sublist in subtrees for item in sublist]\n",
    "\n",
    "            \n",
    "    return flat_list"
   ]
  },
  {
   "cell_type": "code",
   "execution_count": 3,
   "id": "8c248acc-b213-4235-a462-b721ed786f97",
   "metadata": {},
   "outputs": [],
   "source": [
    "def remove_pp(sentence):\n",
    "    subtree = get_pp(sentence)\n",
    "    new_sentence_words = []\n",
    "    for i in nlp(sentence):\n",
    "        if i.i not in subtree:\n",
    "            #print(type(i))\n",
    "            new_sentence_words.append(i)\n",
    "                \n",
    "    new_sentence_words = (''.join(token.text_with_ws for token in new_sentence_words))\n",
    "    print(sentence, \"--->\", new_sentence_words)\n",
    "    return (new_sentence_words)"
   ]
  },
  {
   "cell_type": "code",
   "execution_count": 4,
   "id": "aea0ff01-2bdc-483d-a1b5-69636a03b0c9",
   "metadata": {},
   "outputs": [],
   "source": [
    "sent = [\"You, in the front row, are amazing.\",\n",
    "        \"I saw a monkey with a telescope.\",\n",
    "        \"I'm doing this with pleasure.\",\n",
    "        \"The guy with a knife threatened the shopkeeper.\",\n",
    "        \"Gus trash talks about his friends behind their backs.\",\n",
    "        \"The lady in the toilet is taking a lot of time.\",\n",
    "        \"A lady with a pillow hit a man in a wheelchair.\",\n",
    "        \"I was on time.\",\n",
    "        \"The car dealership told his customer with excitement to pay with coins behind the shop.\",\n",
    "        \"With all due respect, I disagree.\",\n",
    "        \"He shouted at his dog with a whistle.\",\n",
    "        \"We decided that we'll rent a car with enthusiasm.\",\n",
    "        \"Karen found her meaning in life in the shower.\",\n",
    "        \"Hold my hand with 6 fingers.\",\n",
    "        \"I went to the cinema.\",\n",
    "        \"Ted crashed his girlfriend's snowman with a car yesterday.\",\n",
    "        \"Under your clothes there's an endless story.\",\n",
    "        \"Behind the University there's a canteen.\",\n",
    "        \"During class is a good time to not be sleepy.\",\n",
    "        \"It is on the table.\"]"
   ]
  },
  {
   "cell_type": "code",
   "execution_count": 5,
   "id": "1c1553f6-1bff-4c6a-91ed-a90faebb6623",
   "metadata": {},
   "outputs": [
    {
     "name": "stdout",
     "output_type": "stream",
     "text": [
      "You, in the front row, are amazing. ---> You, , are amazing.\n",
      "You, , are amazing.\n",
      "I saw a monkey with a telescope. ---> I saw a monkey .\n",
      "I saw a monkey .\n",
      "I'm doing this with pleasure. ---> I'm doing this .\n",
      "I'm doing this .\n",
      "The guy with a knife threatened the shopkeeper. ---> The guy threatened the shopkeeper.\n",
      "The guy threatened the shopkeeper.\n",
      "Gus trash talks about his friends behind their backs. ---> Gus trash talks .\n",
      "Gus trash talks .\n",
      "The lady in the toilet is taking a lot of time. ---> The lady is taking a lot of time.\n",
      "The lady is taking a lot of time.\n",
      "A lady with a pillow hit a man in a wheelchair. ---> A lady hit a man .\n",
      "A lady hit a man .\n",
      "I was on time. ---> I was on time.\n",
      "I was on time.\n",
      "The car dealership told his customer with excitement to pay with coins behind the shop. ---> The car dealership told his customer to pay .\n",
      "The car dealership told his customer to pay .\n",
      "With all due respect, I disagree. ---> , I disagree.\n",
      ", I disagree.\n",
      "He shouted at his dog with a whistle. ---> He shouted .\n",
      "He shouted .\n",
      "We decided that we'll rent a car with enthusiasm. ---> We decided that we'll rent a car .\n",
      "We decided that we'll rent a car .\n",
      "Karen found her meaning in life in the shower. ---> Karen found her meaning .\n",
      "Karen found her meaning .\n",
      "Hold my hand with 6 fingers. ---> Hold my hand .\n",
      "Hold my hand .\n",
      "I went to the cinema. ---> I went to the cinema.\n",
      "I went to the cinema.\n",
      "Ted crashed his girlfriend's snowman with a car yesterday. ---> Ted crashed his girlfriend's snowman yesterday.\n",
      "Ted crashed his girlfriend's snowman yesterday.\n",
      "Under your clothes there's an endless story. ---> there's an endless story.\n",
      "there's an endless story.\n",
      "Behind the University there's a canteen. ---> there's a canteen.\n",
      "there's a canteen.\n",
      "During class is a good time to not be sleepy. ---> is a good time to not be sleepy.\n",
      "is a good time to not be sleepy.\n",
      "It is on the table. ---> It is on the table.\n",
      "It is on the table.\n"
     ]
    }
   ],
   "source": [
    "for i in sent:\n",
    "    print(remove_pp(i))"
   ]
  },
  {
   "cell_type": "code",
   "execution_count": null,
   "id": "397dde33-d03c-47d2-a782-70e689d5f71f",
   "metadata": {},
   "outputs": [],
   "source": []
  }
 ],
 "metadata": {
  "kernelspec": {
   "display_name": "Python 3",
   "language": "python",
   "name": "python3"
  },
  "language_info": {
   "codemirror_mode": {
    "name": "ipython",
    "version": 3
   },
   "file_extension": ".py",
   "mimetype": "text/x-python",
   "name": "python",
   "nbconvert_exporter": "python",
   "pygments_lexer": "ipython3",
   "version": "3.7.4"
  }
 },
 "nbformat": 4,
 "nbformat_minor": 5
}
