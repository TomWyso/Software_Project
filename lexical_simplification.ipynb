{
 "cells": [
  {
   "cell_type": "code",
   "execution_count": 96,
   "id": "e29f100d",
   "metadata": {},
   "outputs": [],
   "source": [
    "import nltk\n",
    "import re\n",
    "from nltk.corpus import wordnet as wn\n",
    "from wordfreq import zipf_frequency\n",
    "from nltk.tokenize import MWETokenizer\n",
    "from nltk.tokenize import word_tokenize\n",
    "import spacy\n",
    "\n",
    "nlp = spacy.load(\"en_core_web_sm\")\n",
    "\n",
    "import inflect\n",
    "\n",
    "p = inflect.engine()\n",
    "\n",
    "nb = [x.name() for x in wn.all_synsets()]\n",
    "mwe = []\n",
    "for x in nb:\n",
    "    if '_' in x:\n",
    "        mwe.append(tuple(x.split('.')[0].split('_'))) \n",
    "mwe.append(tuple(x.split('.')[0].split('_')))\n",
    "tokenizer = MWETokenizer(mwe)"
   ]
  },
  {
   "cell_type": "code",
   "execution_count": 97,
   "id": "e6416580",
   "metadata": {},
   "outputs": [],
   "source": [
    "nouns = ['NN','NNS']"
   ]
  },
  {
   "cell_type": "code",
   "execution_count": 106,
   "id": "cdfd7332",
   "metadata": {},
   "outputs": [],
   "source": [
    "def lexical_simp(s):\n",
    "    s = s.replace('.',' .')# add a space before every punctuation \". , ; ! : ? etc.\"\n",
    "    s = s.replace('!',' !')\n",
    "    s = s.replace(':', ' :')\n",
    "    s = s.replace(';', ' ;')\n",
    "    s = s.replace(',',' ,')\n",
    "    t = tokenizer.tokenize(s.split())\n",
    "    Ntag = ['NN', 'NNS']\n",
    "    adjtag = ['JJ', 'JJR','JJS']\n",
    "    #search for comma and adj before multiword and take simple word\n",
    "    index = 0\n",
    "    sentence = []\n",
    "    for i in t:\n",
    "        if i == ',':\n",
    "            token = nlp(t[index-1])\n",
    "            sentence.append(i)\n",
    "            if token[0].tag_ in adjtag:\n",
    "                token = t[index+1].replace('_',' ')\n",
    "                token = word_tokenize(token)\n",
    "                for j in token:\n",
    "                    sentence.append(j)\n",
    "                t.pop(index)\n",
    "        else:\n",
    "            sentence.append(i)\n",
    "        index+=1\n",
    "    # simplification'\n",
    "    t = sentence\n",
    "    for word in t: # 'I wear a titfer'\n",
    "        if nltk.pos_tag([word])[0][1] in Ntag: # titfers (NNS) True\n",
    "            if zipf_frequency(word, 'en') < 2.5: #should be simplified\n",
    "                plural = False\n",
    "                if nltk.pos_tag([word])[0][1] == 'NNS' or p.singular_noun(word) != False:\n",
    "                    plural = True\n",
    "                    word = p.singular_noun(word)\n",
    "                w = wn.synsets(word)\n",
    "                if w != []:\n",
    "                    hypernym = []\n",
    "\n",
    "                    for i in w:\n",
    "                        hypernym.extend(i.hypernym_paths()[0])\n",
    "\n",
    "                    n = re.match(r'^(.+)\\.[a-z]+\\.[0-9]+', w[0].name())\n",
    "                    word_f = [((zipf_frequency(n.group(1), 'en'), n.group(1)))]\n",
    "                    proposition = []\n",
    "\n",
    "                    for j in hypernym[-5:]:\n",
    "                        name = j.name().replace('_',' ')\n",
    "                        m = re.match(r'^(.+)\\.[a-z]+\\.[0-9]+', name)\n",
    "                        proposition.append(m.group(1))\n",
    "\n",
    "                    candidate = []\n",
    "                    for k in proposition:\n",
    "                        candidate.append((zipf_frequency(k, 'en'),k))\n",
    "\n",
    "                    choice = sorted(candidate + word_f, reverse = True)\n",
    "                    b = choice[0][1]\n",
    "                    if plural == True:\n",
    "                        b = p.plural_noun(choice[0][1])\n",
    "                        word = p.plural_noun(word)\n",
    "                    t = [a.replace(word,b) for a in t]\n",
    "\n",
    "    index = 0\n",
    "    vowel = ['a','e','i','o','u']\n",
    "    for i in t:\n",
    "        if i == 'a':\n",
    "            if t[index+1][0] in vowel:\n",
    "                t[index] = 'an'\n",
    "        elif i == 'an':\n",
    "            if t[index+1][0] not in vowel:\n",
    "                t[index] = 'a'\n",
    "        index+=1 \n",
    "    \n",
    "    \n",
    "    s = ' '.join(t)\n",
    "    s = s.replace(\"_\", ' ')\n",
    "    s = s.replace(' .','.')\n",
    "    s = s.replace(' !','!')\n",
    "    s = s.replace(' :', ':')\n",
    "    s = s.replace(' ;', ';')\n",
    "    s = s.replace(' ,', ',')\n",
    "    \n",
    "    return s # 'I wear a hat'"
   ]
  },
  {
   "cell_type": "code",
   "execution_count": 107,
   "id": "d9de4eea",
   "metadata": {},
   "outputs": [
    {
     "data": {
      "text/plain": [
       "'I have two dogs and a bike. You are visiting many beautiful castles. I love salmon. We see a big and tall man. He likes wearing tons of hats. This is a real dog! He did an act of what I said. The rebel officers who led the abortive coup were shot.'"
      ]
     },
     "execution_count": 107,
     "metadata": {},
     "output_type": "execute_result"
    }
   ],
   "source": [
    "s1 = 'I have two corgis and a titfer.'\n",
    "s2 = 'You are visiting many beautiful castles.'\n",
    "s3 = 'I love salmon.'\n",
    "s4 = \"We see a big and tall man. He likes wearing tons of titfers.\"\n",
    "s5 = 'This is a real golden retriever !'\n",
    "s6 = 'He did an abnegation of what I said.'\n",
    "s7 = 'The rebel officers who led the abortive coup were shot'\n",
    "\n",
    "s8 = \"I have two corgis and a bike. You are visiting many beautiful castles. I love salmon. We see a big and tall man. He likes wearing tons of titfers. This is a real golden retriever ! He did an abnegation of what I said. The rebel officers who led the abortive coup were shot.\"\n",
    "#s8 = \"I have two corgis and a bike. He likes wearing tons of titfers. This is a real golden retriever !\"\n",
    "\n",
    "#lexical_simp(s1)\n",
    "#lexical_simp(s2)\n",
    "#lexical_simp(s3)\n",
    "#lexical_simp(s4)\n",
    "#lexical_simp(s5)\n",
    "#lexical_simp(s6)\n",
    "#lexical_simp(s7)\n",
    "lexical_simp(s8)"
   ]
  },
  {
   "cell_type": "code",
   "execution_count": 89,
   "id": "696ac13b",
   "metadata": {
    "scrolled": true
   },
   "outputs": [
    {
     "name": "stdout",
     "output_type": "stream",
     "text": [
      "INITIAL SENTENCE:\n",
      " Early Wisdom Literature from the Fertile Crescent was a genre that sought to instruct people on ethical action, practical living, and virtue through stories and proverbs. In Ancient Egypt, these texts were known as  ('teachings') and they are central to our understandings of Ancient Egyptian philosophy.\n"
     ]
    },
    {
     "data": {
      "text/plain": [
       "\"Early Wisdom Literature from the Fertile Crescent was a genre that sought to instruct people on ethical action, practical living, and virtue through stories and proverbs. In Ancient Egypt, these texts were known as ('teachings') and they are central to our understandings of Ancient Egyptian philosophy.\""
      ]
     },
     "execution_count": 89,
     "metadata": {},
     "output_type": "execute_result"
    }
   ],
   "source": [
    "test = \"Early Wisdom Literature from the Fertile Crescent was a genre that sought to instruct people on ethical action, practical living, and virtue through stories and proverbs. In Ancient Egypt, these texts were known as  ('teachings') and they are central to our understandings of Ancient Egyptian philosophy.\"\n",
    "lexical_simp(test) #no change"
   ]
  },
  {
   "cell_type": "code",
   "execution_count": 90,
   "id": "191f5099",
   "metadata": {},
   "outputs": [],
   "source": [
    "# the sentence don't mean anything it's just to test everything\n",
    "s = 'the hat is an wide, flat bone that is not good titfer and golden retriever, it even have a astrological sign'"
   ]
  },
  {
   "cell_type": "code",
   "execution_count": 91,
   "id": "64945e9f",
   "metadata": {},
   "outputs": [
    {
     "name": "stdout",
     "output_type": "stream",
     "text": [
      "INITIAL SENTENCE:\n",
      " the hat is an wide, flat bone that is not good titfer and golden retriever, it even have a astrological sign\n"
     ]
    },
    {
     "data": {
      "text/plain": [
       "'the hat is a wide, flat bone that is not good hat and dog, it even have an astrological sign'"
      ]
     },
     "execution_count": 91,
     "metadata": {},
     "output_type": "execute_result"
    }
   ],
   "source": [
    "lexical_simp(s)"
   ]
  },
  {
   "cell_type": "code",
   "execution_count": null,
   "id": "f50c2333",
   "metadata": {},
   "outputs": [],
   "source": []
  }
 ],
 "metadata": {
  "kernelspec": {
   "display_name": "Python 3 (ipykernel)",
   "language": "python",
   "name": "python3"
  },
  "language_info": {
   "codemirror_mode": {
    "name": "ipython",
    "version": 3
   },
   "file_extension": ".py",
   "mimetype": "text/x-python",
   "name": "python",
   "nbconvert_exporter": "python",
   "pygments_lexer": "ipython3",
   "version": "3.8.12"
  }
 },
 "nbformat": 4,
 "nbformat_minor": 5
}
